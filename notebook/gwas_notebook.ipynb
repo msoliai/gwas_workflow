{
 "cells": [
  {
   "cell_type": "markdown",
   "id": "74387313-71e5-403f-860a-26ad0988a776",
   "metadata": {},
   "source": [
    "# Genome-Wide Association Study (GWAS) Workflow"
   ]
  },
  {
   "cell_type": "markdown",
   "id": "c3d475a9-e242-4f25-80e1-1cc13fce6372",
   "metadata": {
    "jp-MarkdownHeadingCollapsed": true
   },
   "source": [
    "## Table of Contents"
   ]
  },
  {
   "cell_type": "markdown",
   "id": "6866d947-0194-463f-9541-1c25d0eff982",
   "metadata": {},
   "source": [
    "1. [Introduction](#introduction)\n",
    "2. [GWAS Quality Control](#QC)\n",
    "4. [GWAS](#gwas)\n",
    "5. [GWAS Results Output](#results)"
   ]
  },
  {
   "cell_type": "markdown",
   "id": "9ff454e3-befd-4111-8c69-0823e17627a6",
   "metadata": {},
   "source": [
    "<a id=\"introduction\"></a>\n",
    "## 1. Introduction"
   ]
  },
  {
   "cell_type": "markdown",
   "id": "81201f81-194d-4e3f-8511-59a000987d30",
   "metadata": {},
   "source": [
    "This notebook provides a comprehensive workflow on conducting a genome-wide association study (GWAS) using sample data. The workflow includes essential steps such as data inspection, quality control (QC), association testing, and visualization of results. The QC steps ensure that the data used in the analysis are of high quality, removing potential biases and errors.\n",
    "\n",
    "#### Prerequisites\n",
    "- **PLINK**: A widely used toolset for GWAS and population genetics, which can be downloaded from [here](https://www.cog-genomics.org/plink2).\n",
    "- **R**: A programming language and environment for statistical computing and graphics, available [here](https://www.r-project.org).\n",
    "- **'qqman' package in R**: For creating Manhattan and Q-Q plots for visualization of GWAS results.\n",
    "\n",
    "### Workflow Overview\n",
    "1. **Data Inspection**: Check the initial structure and content of the GWAS sample data.\n",
    "2. **Conversion to Binary Files**: Convert the dataset to binary format for efficient processing.\n",
    "3. **Missing Rate Calculation**: Identify and exclude SNPs and individuals with high missing rates.\n",
    "4. **Heterozygosity Rate Calculation**: Detect and remove individuals with abnormal heterozygosity rates.\n",
    "5. **Differential Missing Rate Test**: Exclude SNPs with significantly different missing rates between cases and controls.\n",
    "6. **Hardy-Weinberg Equilibrium (HWE) Test**: Remove SNPs that deviate from HWE in controls.\n",
    "7. **Linkage Disequilibrium (LD) Pruning**: Prune SNPs to remove those in high LD, reducing redundancy.\n",
    "8. **Relatedness Check**: Identify and remove related individuals to ensure the independence of samples.\n",
    "9. **Principal Component Analysis (PCA)**: Generate principal components to correct for population structure.\n",
    "10. **GWAS**: Perform association testing to identify SNPs associated with the trait of interest.\n",
    "11. **Visualization**: Create figures (e.g., Manhattan and Q-Q plots) to visualize the GWAS results.\n",
    "\n",
    "Each step is demonstrated with corresponding commands and scripts to guide you through the entire process, from raw data to final results and visualizations. The goal is to provide a clear and practical understanding of conducting a GWAS with proper quality control and result interpretation. The user may need to make necessary adjustments with larger datasets."
   ]
  },
  {
   "cell_type": "markdown",
   "id": "b83f09be-657d-4278-88f1-9987a8d10cc1",
   "metadata": {},
   "source": [
    "### Environment Setup"
   ]
  },
  {
   "cell_type": "code",
   "execution_count": 1,
   "id": "97db9e3c-1705-41bb-9724-57cb0a86a016",
   "metadata": {},
   "outputs": [
    {
     "name": "stdout",
     "output_type": "stream",
     "text": [
      "- The library is already synchronized with the lockfile.\n"
     ]
    }
   ],
   "source": [
    "# Ensure that the Project Root directory is set to 'prs_humans'\n",
    "# Install and initialize renv if not already installed\n",
    "if (!requireNamespace(\"renv\", quietly = TRUE)) {\n",
    "    install.packages(\"renv\")\n",
    "}\n",
    "\n",
    "# Initialize renv and restore environment\n",
    "# Note: You'll be told that there is one or more packages recorded in the lockfile that was not installed. \n",
    "# This is because lassosum will need to be 'manually' installed. I wrote a script to do this for you in the\n",
    "# lassosum section.\n",
    "setwd('..')\n",
    "renv::init(bare = TRUE)\n",
    "renv::restore()"
   ]
  },
  {
   "cell_type": "markdown",
   "id": "266b081a-26d9-4bda-8224-0a5dc9ffbf75",
   "metadata": {},
   "source": [
    "#### Load libraries"
   ]
  },
  {
   "cell_type": "code",
   "execution_count": 2,
   "id": "f7c10034-2bd3-4269-b7d5-abea57a2bf54",
   "metadata": {},
   "outputs": [
    {
     "name": "stderr",
     "output_type": "stream",
     "text": [
      "\n",
      "\n",
      "For example usage please run: vignette('qqman')\n",
      "\n",
      "\n",
      "\n",
      "Citation appreciated but not required:\n",
      "\n",
      "Turner, (2018). qqman: an R package for visualizing GWAS results using Q-Q and manhattan plots. Journal of Open Source Software, 3(25), 731, https://doi.org/10.21105/joss.00731.\n",
      "\n",
      "\n",
      "\n"
     ]
    }
   ],
   "source": [
    "library(qqman)"
   ]
  },
  {
   "cell_type": "markdown",
   "id": "12e07121-e0c3-41a1-b98b-5c50beb038ce",
   "metadata": {},
   "source": [
    "### Set the Project Root"
   ]
  },
  {
   "cell_type": "code",
   "execution_count": 3,
   "id": "a2f75998-9e31-4646-8ed3-0ba772f2b65d",
   "metadata": {},
   "outputs": [
    {
     "name": "stderr",
     "output_type": "stream",
     "text": [
      "here() starts at /Users/msoliai/Documents/git/gwas_workflow\n",
      "\n"
     ]
    },
    {
     "name": "stdout",
     "output_type": "stream",
     "text": [
      "[1] \"Project root is set to: /Users/msoliai/Documents/git/gwas_workflow\"\n",
      "[1] \"data directory is set to: /Users/msoliai/Documents/git/gwas_workflow/data\"\n"
     ]
    }
   ],
   "source": [
    "# Verify the Project Root is set to prs_humans\n",
    "library(here)\n",
    "project_root <- here::here()\n",
    "\n",
    "# Set the data directory\n",
    "data_dir <- file.path(project_root, \"data\")\n",
    "print(paste(\"Project root is set to:\", project_root))\n",
    "print(paste(\"data directory is set to:\", data_dir))"
   ]
  },
  {
   "cell_type": "code",
   "execution_count": 4,
   "id": "ae9948cc-5c46-45da-8dfc-6b7df0684b1e",
   "metadata": {},
   "outputs": [],
   "source": [
    "# Set the seed\n",
    "set.seed(123)"
   ]
  },
  {
   "cell_type": "markdown",
   "id": "d1a63a3b-cbf9-4671-8e2d-4484e297a9f7",
   "metadata": {},
   "source": [
    "<a id=\"QC\"></a>\n",
    "## 2. GWAS Quality Control"
   ]
  },
  {
   "cell_type": "markdown",
   "id": "86035725-657d-4e79-9164-f7ffa3c3d09a",
   "metadata": {},
   "source": [
    "### Step 1: Inspect data"
   ]
  },
  {
   "cell_type": "code",
   "execution_count": 5,
   "id": "cbd35d77-48b5-47fa-be36-fd945332c7b3",
   "metadata": {},
   "outputs": [
    {
     "name": "stdout",
     "output_type": "stream",
     "text": [
      "NA20505 NA20505 0 0 2 1 0 0 A A A C T T G G C T T T T T A A G G C C A A C C A A G G T T C C G G G G \n",
      "NA20504 NA20504 0 0 2 2 G G A A C C T T G G T T T T T T A A G G C C A A C C A A G G T T 0 0 G G G G \n",
      "NA20506 NA20506 0 0 2 2 G G A A A C T T G G T T T T C T A A A G C C C A C C A A A G T T C C G G G G \n",
      "NA20502 NA20502 0 0 2 1 G G A A C C T T G G T T T T C T A A A G C C C A C C A A A G T T T C G G G G \n",
      "NA20528 NA20528 0 0 1 2 G G A A C C G T G G C T G T C C G A A G C C C C C C A A A G T T C C G G G G \n",
      "NA20531 NA20531 0 0 2 1 G G A A A C G T G G C T T T C T G A G G C C C A T C A A G G T T C C G G G G \n",
      "NA20534 NA20534 0 0 1 1 C G G A C C G G G G C T G G C C G A A G C C C C C C A A G G T T C C G G A G \n",
      "NA20535 NA20535 0 0 2 1 G G A A A C G T G G C C T T C C G A A G C C C C C C C A A G T T C C G G G G \n",
      "NA20586 NA20586 0 0 1 2 G G A A A C G T G G T T G T C T A A A G C C C A T C C A A G T T C C G G G G \n",
      "NA20756 NA20756 0 0 2 1 G G A A A C G G G G C C T T C C G G G G C C A A C C A A G G C T T C G G G G \n"
     ]
    }
   ],
   "source": [
    "# Execute the system command with the correct path\n",
    "output <- system(paste(\"head\", file.path(data_dir, \"gwas_example.ped\"), \"| cut -c 1-100\"), intern = TRUE)\n",
    "\n",
    "# Print the output\n",
    "if (length(output) > 0) {\n",
    "  cat(output, sep = \"\\n\")\n",
    "} else {\n",
    "  print(\"No output generated. Please check the file path and command.\")\n",
    "}"
   ]
  },
  {
   "cell_type": "code",
   "execution_count": 6,
   "id": "96ca98d4-9974-4f0c-a5cd-e297ff1f4f93",
   "metadata": {},
   "outputs": [
    {
     "name": "stdout",
     "output_type": "stream",
     "text": [
      "1\trs12565286\t0\t711153\n",
      "1\trs12124819\t0\t766409\n",
      "1\trs4970383\t0\t828418\n",
      "1\trs13303118\t0\t908247\n",
      "1\trs35940137\t0\t930066\n",
      "1\trs2465136\t0\t980280\n",
      "1\trs2488991\t0\t984254\n",
      "1\trs3766192\t0\t1007060\n",
      "1\trs10907177\t0\t1011209\n",
      "1\trs9442398\t0\t1011558\n"
     ]
    }
   ],
   "source": [
    "# Check if the file exists\n",
    "file_path <- file.path(data_dir, \"gwas_example.map\")\n",
    "if (file.exists(file_path)) {\n",
    "  # Execute the system command with the correct path\n",
    "  output <- system(paste(\"head\", file_path), intern = TRUE)\n",
    "  \n",
    "  # Print the output\n",
    "  if (length(output) > 0) {\n",
    "    cat(output, sep = \"\\n\")\n",
    "  } else {\n",
    "    print(\"No output generated from the command.\")\n",
    "  }\n",
    "} else {\n",
    "  print(paste(\"File not found:\", file_path))\n",
    "}"
   ]
  },
  {
   "cell_type": "markdown",
   "id": "231d745b-8916-44cb-ada1-eaf0ef02dda6",
   "metadata": {},
   "source": [
    "### Step 2: Convert files to binary"
   ]
  },
  {
   "cell_type": "code",
   "execution_count": 7,
   "id": "abdde04d-7f40-489f-bb53-28f5a176a499",
   "metadata": {},
   "outputs": [],
   "source": [
    "# Convert to binary files\n",
    "system(paste(\"plink --file\", file.path(data_dir, \"gwas_example\"), \"--make-bed --out\", file.path(data_dir, \"gwas_example\")))"
   ]
  },
  {
   "cell_type": "markdown",
   "id": "f315abbc-97f3-41de-a24d-e957f4d332bf",
   "metadata": {},
   "source": [
    "#### Verify that .bim and .fam files were written to the data directory"
   ]
  },
  {
   "cell_type": "code",
   "execution_count": 8,
   "id": "50c790a6-e93c-4392-85e8-83714db3feec",
   "metadata": {},
   "outputs": [
    {
     "name": "stdout",
     "output_type": "stream",
     "text": [
      "[1] \"total 176712\"                                                        \n",
      "[2] \"-rw-r--r--  1 msoliai  staff   5015503 Jun  1 19:33 gwas_example.bed\"\n",
      "[3] \"-rw-r--r--  1 msoliai  staff   2795442 Jun  1 19:33 gwas_example.bim\"\n",
      "[4] \"-rw-r--r--  1 msoliai  staff      4472 Jun  1 19:33 gwas_example.fam\"\n",
      "[5] \"-rw-r--r--  1 msoliai  staff      1481 Jun  1 19:33 gwas_example.log\"\n",
      "[6] \"-rw-r--r--  1 msoliai  staff   2394202 Jun  1 10:08 gwas_example.map\"\n",
      "[7] \"-rw-r--r--  1 msoliai  staff  80252472 Jun  1 10:08 gwas_example.ped\"\n",
      "1\trs12565286\t0\t711153\tC\tG\n",
      "1\trs12124819\t0\t766409\tG\tA\n",
      "1\trs4970383\t0\t828418\tA\tC\n",
      "1\trs13303118\t0\t908247\tG\tT\n",
      "1\trs35940137\t0\t930066\tA\tG\n",
      "1\trs2465136\t0\t980280\tC\tT\n",
      "1\trs2488991\t0\t984254\tG\tT\n",
      "1\trs3766192\t0\t1007060\tC\tT\n",
      "1\trs10907177\t0\t1011209\tG\tA\n",
      "1\trs9442398\t0\t1011558\tA\tG\n",
      "NA20505 NA20505 0 0 2 1\n",
      "NA20504 NA20504 0 0 2 2\n",
      "NA20506 NA20506 0 0 2 2\n",
      "NA20502 NA20502 0 0 2 1\n",
      "NA20528 NA20528 0 0 1 2\n",
      "NA20531 NA20531 0 0 2 1\n",
      "NA20534 NA20534 0 0 1 1\n",
      "NA20535 NA20535 0 0 2 1\n",
      "NA20586 NA20586 0 0 1 2\n",
      "NA20756 NA20756 0 0 2 1\n"
     ]
    }
   ],
   "source": [
    "# List the files in the data directory\n",
    "print(system(paste(\"ls -l\", data_dir), intern = TRUE))\n",
    "\n",
    "# Function to check file existence and run system command\n",
    "run_system_command <- function(file_name) {\n",
    "  file_path <- file.path(data_dir, file_name)\n",
    "  if (file.exists(file_path)) {\n",
    "    output <- system(paste(\"head\", file_path), intern = TRUE)\n",
    "    if (length(output) > 0) {\n",
    "      cat(output, sep = \"\\n\")\n",
    "    } else {\n",
    "      print(paste(\"No output generated from the command for\", file_name))\n",
    "    }\n",
    "  } else {\n",
    "    print(paste(\"File not found:\", file_path))\n",
    "  }\n",
    "}\n",
    "\n",
    "# Execute the system commands\n",
    "run_system_command(\"gwas_example.bim\")\n",
    "run_system_command(\"gwas_example.fam\")"
   ]
  },
  {
   "cell_type": "code",
   "execution_count": 9,
   "id": "da735ee5-fab8-4a05-9f0d-23efab1c2017",
   "metadata": {},
   "outputs": [
    {
     "name": "stdout",
     "output_type": "stream",
     "text": [
      "-rw-r--r--  1 msoliai  staff   4.8M Jun  1 19:33 /Users/msoliai/Documents/git/gwas_workflow/data/gwas_example.bed\n",
      "-rw-r--r--  1 msoliai  staff    77M Jun  1 10:08 /Users/msoliai/Documents/git/gwas_workflow/data/gwas_example.ped\n"
     ]
    }
   ],
   "source": [
    "# List the details of the gwas_example.bed file\n",
    "output_bed <- system(paste(\"ls -rlth\", file.path(data_dir, \"gwas_example.bed\")), intern = TRUE)\n",
    "if (length(output_bed) > 0) {\n",
    "  cat(output_bed, sep = \"\\n\")\n",
    "} else {\n",
    "  print(\"No output generated for gwas_example.bed\")\n",
    "}\n",
    "\n",
    "# List the details of the dat/gwas_example.ped file\n",
    "output_ped <- system(paste(\"ls -rlth\", file.path(data_dir, \"gwas_example.ped\")), intern = TRUE)\n",
    "if (length(output_ped) > 0) {\n",
    "  cat(output_ped, sep = \"\\n\")\n",
    "} else {\n",
    "  print(\"No output generated for gwas_example.ped\")\n",
    "}"
   ]
  },
  {
   "cell_type": "markdown",
   "id": "84d70b30-693b-4d3f-a2f8-0b34341d76ac",
   "metadata": {},
   "source": [
    "### Step 3: Calculate the sample missingness rate"
   ]
  },
  {
   "cell_type": "code",
   "execution_count": 10,
   "id": "127ffc76-f5d0-4652-b243-c572e6b9bef4",
   "metadata": {},
   "outputs": [
    {
     "name": "stdout",
     "output_type": "stream",
     "text": [
      "PLINK v1.90b7.2 64-bit (11 Dec 2023)           www.cog-genomics.org/plink/1.9/\n",
      "(C) 2005-2023 Shaun Purcell, Christopher Chang   GNU General Public License v3\n",
      "Logging to /Users/msoliai/Documents/git/gwas_workflow/data/gwas_example.log.\n",
      "Options in effect:\n",
      "  --bfile /Users/msoliai/Documents/git/gwas_workflow/data/gwas_example\n",
      "  --missing\n",
      "  --out /Users/msoliai/Documents/git/gwas_workflow/data/gwas_example\n",
      "\n",
      "16384 MB RAM detected; reserving 8192 MB for main workspace.\n",
      "100310 variants loaded from .bim file.\n",
      "200 people (101 males, 99 females) loaded from .fam.\n",
      "200 phenotype values loaded from .fam.\n",
      "Using 1 thread (no multithreaded calculations invoked).\n",
      "Before main variant filters, 200 founders and 0 nonfounders present.\n",
      "Calculating allele frequencies... 10111213141516171819202122232425262728293031323334353637383940414243444546474849505152535455565758596061626364656667686970717273747576777879808182838485868788899091929394959697989 done.\n",
      "Total genotyping rate is 0.996374.\n",
      "--missing: Sample missing data report written to\n",
      "/Users/msoliai/Documents/git/gwas_workflow/data/gwas_example.imiss, and\n",
      "variant-based missing data report written to\n",
      "/Users/msoliai/Documents/git/gwas_workflow/data/gwas_example.lmiss.\n",
      "      FID       IID MISS_PHENO   N_MISS   N_GENO   F_MISS\n",
      "  NA20505   NA20505          N      122   100310 0.001216\n",
      "  NA20504   NA20504          N     1406   100310  0.01402\n",
      "  NA20506   NA20506          N      204   100310 0.002034\n",
      "  NA20502   NA20502          N      847   100310 0.008444\n",
      "  NA20528   NA20528          N      219   100310 0.002183\n",
      "  NA20531   NA20531          N       96   100310 0.000957\n",
      "  NA20534   NA20534          N      338   100310  0.00337\n",
      "  NA20535   NA20535          N      182   100310 0.001814\n",
      "  NA20586   NA20586          N      214   100310 0.002133\n",
      "      FID       IID MISS_PHENO   N_MISS   N_GENO   F_MISS\n",
      "  NA20515   NA20515          N     2065   100310  0.02059\n",
      "     1458   NA12843          N     2025   100310  0.02019\n"
     ]
    }
   ],
   "source": [
    "# Paths to the data files\n",
    "bfile <- file.path(data_dir, \"gwas_example\")\n",
    "\n",
    "# Calculate missing rate and capture output\n",
    "plink_command <- paste(\"plink --bfile\", bfile, \"--missing --out\", bfile)\n",
    "output <- system(plink_command, intern = TRUE, ignore.stderr = TRUE)\n",
    "\n",
    "# Print the output of the PLINK command\n",
    "cat(output, sep = \"\\n\")\n",
    "\n",
    "# Check if the gwas_example.imiss file was created\n",
    "imiss_file <- file.path(data_dir, \"gwas_example.imiss\")\n",
    "\n",
    "if (file.exists(imiss_file)) {\n",
    "  # Inspect the output missingness file\n",
    "  output_imiss <- system(paste(\"head\", imiss_file), intern = TRUE)\n",
    "  if (length(output_imiss) > 0) {\n",
    "    cat(output_imiss, sep = \"\\n\")\n",
    "  } else {\n",
    "    print(\"No output generated for gwas_example.imiss\")\n",
    "  }\n",
    "\n",
    "  # Use awk to filter individuals with missing rate greater than 2%\n",
    "  output_awk <- system(paste(\"awk '$6 > 0.02'\", imiss_file), intern = TRUE)\n",
    "  if (length(output_awk) > 0) {\n",
    "    cat(output_awk, sep = \"\\n\")\n",
    "  } else {\n",
    "    print(\"No individuals with missing rate greater than 2% found.\")\n",
    "  }\n",
    "} else {\n",
    "  print(paste(\"File not found:\", imiss_file))\n",
    "}"
   ]
  },
  {
   "cell_type": "markdown",
   "id": "b4d4a57e-f8aa-470a-a2ef-a9855e0a1656",
   "metadata": {},
   "source": [
    "### Step 4: Calculate the heterozygosity rate"
   ]
  },
  {
   "cell_type": "code",
   "execution_count": 11,
   "id": "30af6df9-5306-4b8d-a9b2-e1ee15eb128a",
   "metadata": {},
   "outputs": [
    {
     "name": "stdout",
     "output_type": "stream",
     "text": [
      "PLINK v1.90b7.2 64-bit (11 Dec 2023)           www.cog-genomics.org/plink/1.9/\n",
      "(C) 2005-2023 Shaun Purcell, Christopher Chang   GNU General Public License v3\n",
      "Logging to /Users/msoliai/Documents/git/gwas_workflow/data/gwas_example.log.\n",
      "Options in effect:\n",
      "  --bfile /Users/msoliai/Documents/git/gwas_workflow/data/gwas_example\n",
      "  --het\n",
      "  --out /Users/msoliai/Documents/git/gwas_workflow/data/gwas_example\n",
      "\n",
      "16384 MB RAM detected; reserving 8192 MB for main workspace.\n",
      "100310 variants loaded from .bim file.\n",
      "200 people (101 males, 99 females) loaded from .fam.\n",
      "200 phenotype values loaded from .fam.\n",
      "Using 1 thread (no multithreaded calculations invoked).\n",
      "Before main variant filters, 200 founders and 0 nonfounders present.\n",
      "Calculating allele frequencies... 10111213141516171819202122232425262728293031323334353637383940414243444546474849505152535455565758596061626364656667686970717273747576777879808182838485868788899091929394959697989 done.\n",
      "Total genotyping rate is 0.996374.\n",
      "100310 variants and 200 people pass filters and QC.\n",
      "Among remaining phenotypes, 39 are cases and 161 are controls.\n",
      "--het: 100310 variants scanned, report written to\n",
      "/Users/msoliai/Documents/git/gwas_workflow/data/gwas_example.het .\n",
      "      FID       IID       O(HOM)       E(HOM)        N(NM)            F\n",
      "  NA20505   NA20505        71394    7.124e+04       100188     0.005246\n",
      "  NA20504   NA20504        69260    7.027e+04        98904     -0.03512\n",
      "  NA20506   NA20506        71344    7.118e+04       100106     0.005509\n",
      "  NA20502   NA20502        71086    7.068e+04        99463      0.01405\n",
      "  NA20528   NA20528        70901    7.117e+04       100091    -0.009297\n",
      "  NA20531   NA20531        71064    7.126e+04       100214     -0.00685\n",
      "  NA20534   NA20534        71197    7.108e+04        99972     0.003942\n",
      "  NA20535   NA20535        71263     7.12e+04       100128     0.002156\n",
      "  NA20586   NA20586        71089    7.119e+04       100096    -0.003495\n"
     ]
    }
   ],
   "source": [
    "# Paths to the data files\n",
    "bfile <- file.path(data_dir, \"gwas_example\")\n",
    "\n",
    "# Calculate heterozygosity rate and capture output\n",
    "plink_command <- paste(\"plink --bfile\", bfile, \"--het --out\", bfile)\n",
    "output <- system(plink_command, intern = TRUE, ignore.stderr = TRUE)\n",
    "\n",
    "# Print the output of the PLINK command\n",
    "cat(output, sep = \"\\n\")\n",
    "\n",
    "# Check if the gwas_example.het file was created\n",
    "het_file <- file.path(data_dir, \"gwas_example.het\")\n",
    "\n",
    "if (file.exists(het_file)) {\n",
    "  # Inspect the output heterozygosity file\n",
    "  output_het <- system(paste(\"head\", het_file), intern = TRUE)\n",
    "  if (length(output_het) > 0) {\n",
    "    cat(output_het, sep = \"\\n\")\n",
    "  } else {\n",
    "    print(\"No output generated for gwas_example.het\")\n",
    "  }\n",
    "} else {\n",
    "  print(paste(\"File not found:\", het_file))\n",
    "}"
   ]
  },
  {
   "cell_type": "markdown",
   "id": "faa9ca8b-8b90-4fd1-a1db-000883749c19",
   "metadata": {},
   "source": [
    "### Step 5: Generate sample ID list failing missingness and heterozygosity checks"
   ]
  },
  {
   "cell_type": "code",
   "execution_count": 12,
   "id": "fc925212-ae8f-469c-84ae-874e6223997e",
   "metadata": {},
   "outputs": [
    {
     "name": "stdout",
     "output_type": "stream",
     "text": [
      "[1] \"wrote IDs to remove to /Users/msoliai/Documents/git/gwas_workflow/data/gwas_example.imiss-vs-het.remove\"\n"
     ]
    }
   ],
   "source": [
    "# Read the imiss and het files\n",
    "imiss <- read.table(file.path(data_dir, \"gwas_example.imiss\"), header = TRUE)\n",
    "het <- read.table(file.path(data_dir, \"gwas_example.het\"), header = TRUE)\n",
    "\n",
    "# Calculate upper and lower limits for heterozygosity\n",
    "upplimit <- mean(het$F) + (3 * sd(het$F))\n",
    "lowlimit <- mean(het$F) - (3 * sd(het$F))\n",
    "\n",
    "# Identify individuals to remove based on heterozygosity and missing rate\n",
    "het.remove <- het[which(het$F < lowlimit | het$F > upplimit), c(\"FID\", \"IID\")]\n",
    "imiss.remove <- imiss[which(imiss$F_MISS > 0.02), c(\"FID\", \"IID\")]\n",
    "\n",
    "# Write the IDs to remove to a file in the data directory\n",
    "output_file <- file.path(data_dir, \"gwas_example.imiss-vs-het.remove\")\n",
    "write.table(rbind(het.remove, imiss.remove), output_file, append = FALSE, quote = FALSE, sep = \" \", row.names = FALSE, col.names = FALSE)\n",
    "\n",
    "print(paste(\"wrote IDs to remove to\", output_file))"
   ]
  },
  {
   "cell_type": "markdown",
   "id": "e2239821-a01d-4018-b289-ea4d501ee288",
   "metadata": {},
   "source": [
    "#### Remove samples/individuals in the list"
   ]
  },
  {
   "cell_type": "code",
   "execution_count": 13,
   "id": "0e92dd9a-cab8-442d-aebb-9100e2b95434",
   "metadata": {},
   "outputs": [],
   "source": [
    "# Remove samples listed in \"gwas_example.imiss-vs-het.remove\"\n",
    "remove_file <- file.path(data_dir, \"gwas_example.imiss-vs-het.remove\")\n",
    "output_file_qc1 <- file.path(data_dir, \"gwas_example_qc1\")\n",
    "\n",
    "system(paste(\"plink --bfile\", file.path(data_dir, \"gwas_example\"), \"--remove\", remove_file, \"--make-bed --out\", output_file_qc1))"
   ]
  },
  {
   "cell_type": "markdown",
   "id": "6380fc6b-b2f1-443a-a8d8-1fc16137cbd0",
   "metadata": {},
   "source": [
    "### Step 7: Identify and remove variants with high missingness"
   ]
  },
  {
   "cell_type": "markdown",
   "id": "94f28c62-d797-48ef-8327-aa73a18eea9d",
   "metadata": {},
   "source": [
    "This code focuses on overall SNP missingness across all samples. SNPs with more than 5% missing data are excluded."
   ]
  },
  {
   "cell_type": "code",
   "execution_count": 14,
   "id": "cceb5d8f-4a5c-4266-92d3-7590c7039db3",
   "metadata": {},
   "outputs": [],
   "source": [
    "# Inspect the missingness file\n",
    "system(paste(\"head\", file.path(data_dir, \"gwas_example.lmiss\")))\n",
    "\n",
    "# gwas_example.lmiss.exclude contains the list of SNPs/variants that we will remove\n",
    "system(paste(\"awk 'NR>1 && $5 > 0.05 {print $2}'\", file.path(data_dir, \"gwas_example.lmiss\"), \">\", file.path(data_dir, \"gwas_example.lmiss.exclude\")))\n",
    "\n",
    "# Remove the specified SNPs/variants and create a new binary file\n",
    "output_file_qc2 <- file.path(data_dir, \"gwas_example_qc2\")\n",
    "system(paste(\"plink --bfile\", file.path(data_dir, \"gwas_example_qc1\"), \"--make-bed --exclude\", file.path(data_dir, \"gwas_example.lmiss.exclude\"), \"--out\", output_file_qc2))"
   ]
  },
  {
   "cell_type": "markdown",
   "id": "a7e07533-f8d2-487b-a188-b8022875441c",
   "metadata": {},
   "source": [
    "### Step 8: Remove variants with a high differential missingness rate"
   ]
  },
  {
   "cell_type": "markdown",
   "id": "09f6529d-b5e5-4f7a-ac7b-3b5e5fcbce91",
   "metadata": {},
   "source": [
    "This code focuses on the differences in missingness rates between cases and controls. SNPs with significan differences > 5% are excluded to prevent potential bias in the association results."
   ]
  },
  {
   "cell_type": "code",
   "execution_count": 15,
   "id": "6fade622-a3c2-4430-8e09-63c6af86f502",
   "metadata": {},
   "outputs": [],
   "source": [
    "# Test for differential missingness\n",
    "system(paste(\"plink --bfile\", file.path(data_dir, \"gwas_example_qc2\"), \"--test-missing --out\", file.path(data_dir, \"gwas_example_qc2\")))\n",
    "\n",
    "# Inspect the missingness test output\n",
    "system(paste(\"head\", file.path(data_dir, \"gwas_example_qc2.missing\")))\n",
    "\n",
    "# Identify SNPs with differential missingness greater than 5% and write their IDs to exclude file\n",
    "system(paste(\"awk '$3-$4 > 0.05 || $3-$4 < -0.05 {print $2}'\", file.path(data_dir, \"gwas_example_qc2.missing\"), \">\", file.path(data_dir, \"gwas_example_qc2.missing.exclude\")))\n",
    "\n",
    "# Remove the specified SNPs/variants and create a new binary file\n",
    "output_file_qc3 <- file.path(data_dir, \"gwas_example_qc3\")\n",
    "system(paste(\"plink --bfile\", file.path(data_dir, \"gwas_example_qc2\"), \"--exclude\", file.path(data_dir, \"gwas_example_qc2.missing.exclude\"), \"--make-bed --out\", output_file_qc3))"
   ]
  },
  {
   "cell_type": "markdown",
   "id": "382e9378-9818-4bc3-ba34-a2c3631ff248",
   "metadata": {},
   "source": [
    "### Step 9: Remove variants failing the HWE test"
   ]
  },
  {
   "cell_type": "code",
   "execution_count": 16,
   "id": "614ea108-1b34-4c5b-bfb2-f5846a4f1e35",
   "metadata": {},
   "outputs": [],
   "source": [
    "# Perform Hardy-Weinberg Equilibrium (HWE) test\n",
    "system(paste(\"plink --bfile\", file.path(data_dir, \"gwas_example_qc3\"), \"--hardy --out\", file.path(data_dir, \"gwas_example_qc3\")))\n",
    "\n",
    "# Inspect the HWE test output\n",
    "system(paste(\"head\", file.path(data_dir, \"gwas_example_qc3.hwe\")))\n",
    "\n",
    "# Identify SNPs that fail the HWE test in controls and write their IDs to exclude file\n",
    "system(paste(\"awk '$3==\\\"UNAFF\\\" && $9 < 0.000001 {print $2}'\", file.path(data_dir, \"gwas_example_qc3.hwe\"), \">\", file.path(data_dir, \"gwas_example_qc3.hwe.exclude\")))\n",
    "\n",
    "# Remove the specified SNPs/variants and create a new binary file\n",
    "output_file_qc4 <- file.path(data_dir, \"gwas_example_qc4\")\n",
    "system(paste(\"plink --bfile\", file.path(data_dir, \"gwas_example_qc3\"), \"--exclude\", file.path(data_dir, \"gwas_example_qc3.hwe.exclude\"), \"--make-bed --out\", output_file_qc4))"
   ]
  },
  {
   "cell_type": "markdown",
   "id": "aa5f5c8c-f93b-42de-b3b2-ec162bf3ad77",
   "metadata": {},
   "source": [
    "### Step 10: LD pruning to remove related individuals"
   ]
  },
  {
   "cell_type": "code",
   "execution_count": 17,
   "id": "25d9a850-c6c0-4851-a9ae-98ed0ca09dfd",
   "metadata": {},
   "outputs": [],
   "source": [
    "# Perform linkage disequilibrium (LD) pruning\n",
    "system(paste(\"plink --bfile\", file.path(data_dir, \"gwas_example_qc4\"), \"--indep-pairwise 200 5 0.2 --out\", file.path(data_dir, \"gwas_example_qc4\")))\n",
    "\n",
    "# Inspect the LD pruning output\n",
    "system(paste(\"head\", file.path(data_dir, \"gwas_example_qc4.prune.in\")))\n",
    "\n",
    "# Extract the pruned SNPs and create a new binary file\n",
    "system(paste(\"plink --bfile\", file.path(data_dir, \"gwas_example_qc4\"), \"--extract\", file.path(data_dir, \"gwas_example_qc4.prune.in\"), \"--make-bed --out\", file.path(data_dir, \"gwas_example_qc4_indep\")))\n",
    "\n",
    "# Calculate genome-wide identity-by-descent (IBD)\n",
    "system(paste(\"plink --bfile\", file.path(data_dir, \"gwas_example_qc4_indep\"), \"--genome --out\", file.path(data_dir, \"gwas_example_qc4_indep\")))\n",
    "\n",
    "# Inspect the genome-wide IBD output\n",
    "system(paste(\"head\", file.path(data_dir, \"gwas_example_qc4_indep.genome\")))\n",
    "\n",
    "# Identify pairs of individuals with high relatedness (IBD > 0.2) and write their IDs to remove file\n",
    "system(paste(\"awk 'NR>1 && $10 > 0.2 {print $1\\\"\\\\t\\\"$2}'\", file.path(data_dir, \"gwas_example_qc4_indep.genome\"), \">\", file.path(data_dir, \"gwas_example_qc4_indep.genome.remove\")))\n",
    "\n",
    "# Remove the related individuals and create a final binary file\n",
    "output_file_final <- file.path(data_dir, \"gwas_example_final\")\n",
    "system(paste(\"plink --bfile\", file.path(data_dir, \"gwas_example_qc4\"), \"--remove\", file.path(data_dir, \"gwas_example_qc4_indep.genome.remove\"), \"--make-bed --out\", output_file_final))"
   ]
  },
  {
   "cell_type": "markdown",
   "id": "51f35f6d-a866-4c40-a436-f89df277569c",
   "metadata": {},
   "source": [
    "#### Verify the number of samples and variants that were removed"
   ]
  },
  {
   "cell_type": "code",
   "execution_count": 18,
   "id": "ef639b59-9da4-4791-80c6-bf770f27af9e",
   "metadata": {},
   "outputs": [
    {
     "name": "stdout",
     "output_type": "stream",
     "text": [
      "  100310 /Users/msoliai/Documents/git/gwas_workflow/data/gwas_example.bim\n",
      "     200 /Users/msoliai/Documents/git/gwas_workflow/data/gwas_example.fam\n",
      "   99712 /Users/msoliai/Documents/git/gwas_workflow/data/gwas_example_final.bim\n",
      "     192 /Users/msoliai/Documents/git/gwas_workflow/data/gwas_example_final.fam\n"
     ]
    }
   ],
   "source": [
    "# Count the number of lines in the .bim and .fam files\n",
    "output_bim <- system(paste(\"wc -l\", file.path(data_dir, \"gwas_example.bim\")), intern = TRUE)\n",
    "output_fam <- system(paste(\"wc -l\", file.path(data_dir, \"gwas_example.fam\")), intern = TRUE)\n",
    "cat(output_bim, sep = \"\\n\")\n",
    "cat(output_fam, sep = \"\\n\")\n",
    "\n",
    "# Count the number of lines in the final .bim and .fam files\n",
    "output_final_bim <- system(paste(\"wc -l\", file.path(data_dir, \"gwas_example_final.bim\")), intern = TRUE)\n",
    "output_final_fam <- system(paste(\"wc -l\", file.path(data_dir, \"gwas_example_final.fam\")), intern = TRUE)\n",
    "cat(output_final_bim, sep = \"\\n\")\n",
    "cat(output_final_fam, sep = \"\\n\")"
   ]
  },
  {
   "cell_type": "markdown",
   "id": "a356dda4-32d1-4c1d-ad9c-8b96d9f854c3",
   "metadata": {},
   "source": [
    "### Step 11: Generate PC for population structure (using the new dataset without related individuals)"
   ]
  },
  {
   "cell_type": "code",
   "execution_count": 19,
   "id": "238c8743-bb91-4c67-8c80-3ef6deadf02e",
   "metadata": {},
   "outputs": [
    {
     "name": "stdout",
     "output_type": "stream",
     "text": [
      "PLINK v1.90b7.2 64-bit (11 Dec 2023)           www.cog-genomics.org/plink/1.9/\n",
      "(C) 2005-2023 Shaun Purcell, Christopher Chang   GNU General Public License v3\n",
      "Logging to /Users/msoliai/Documents/git/gwas_workflow/data/gwas_example_final.log.\n",
      "Options in effect:\n",
      "  --bfile /Users/msoliai/Documents/git/gwas_workflow/data/gwas_example_final\n",
      "  --indep-pairwise 200 5 0.2\n",
      "  --out /Users/msoliai/Documents/git/gwas_workflow/data/gwas_example_final\n",
      "\n",
      "16384 MB RAM detected; reserving 8192 MB for main workspace.\n",
      "99712 variants loaded from .bim file.\n",
      "192 people (95 males, 97 females) loaded from .fam.\n",
      "192 phenotype values loaded from .fam.\n",
      "Using 1 thread (no multithreaded calculations invoked).\n",
      "Before main variant filters, 192 founders and 0 nonfounders present.\n",
      "Calculating allele frequencies... 10111213141516171819202122232425262728293031323334353637383940414243444546474849505152535455565758596061626364656667686970717273747576777879808182838485868788899091929394959697989 done.\n",
      "Total genotyping rate is 0.996823.\n",
      "99712 variants and 192 people pass filters and QC.\n",
      "Among remaining phenotypes, 39 are cases and 153 are controls.\n",
      "Pruned 2186 variants from chromosome 1, leaving 5860.\n",
      "Pruned 2189 variants from chromosome 2, leaving 5652.\n",
      "Pruned 1807 variants from chromosome 3, leaving 4859.\n",
      "Pruned 1576 variants from chromosome 4, leaving 4353.\n",
      "Pruned 1732 variants from chromosome 5, leaving 4408.\n",
      "Pruned 1895 variants from chromosome 6, leaving 4457.\n",
      "Pruned 1426 variants from chromosome 7, leaving 3968.\n",
      "Pruned 1494 variants from chromosome 8, leaving 3633.\n",
      "Pruned 1340 variants from chromosome 9, leaving 3443.\n",
      "Pruned 1457 variants from chromosome 10, leaving 3832.\n",
      "Pruned 1330 variants from chromosome 11, leaving 3507.\n",
      "Pruned 1375 variants from chromosome 12, leaving 3662.\n",
      "Pruned 1013 variants from chromosome 13, leaving 2722.\n",
      "Pruned 895 variants from chromosome 14, leaving 2442.\n",
      "Pruned 854 variants from chromosome 15, leaving 2333.\n",
      "Pruned 943 variants from chromosome 16, leaving 2595.\n",
      "Pruned 789 variants from chromosome 17, leaving 2318.\n",
      "Pruned 819 variants from chromosome 18, leaving 2300.\n",
      "Pruned 502 variants from chromosome 19, leaving 1773.\n",
      "Pruned 669 variants from chromosome 20, leaving 2074.\n",
      "Pruned 398 variants from chromosome 21, leaving 1114.\n",
      "Pruned 440 variants from chromosome 22, leaving 1278.\n",
      "Pruning complete.  27129 of 99712 variants removed.\n",
      "Marker lists written to\n",
      "/Users/msoliai/Documents/git/gwas_workflow/data/gwas_example_final.prune.in and\n",
      "/Users/msoliai/Documents/git/gwas_workflow/data/gwas_example_final.prune.out .\n",
      "Pruning output file exists:  /Users/msoliai/Documents/git/gwas_workflow/data/gwas_example_final.prune.in \n",
      "PLINK v1.90b7.2 64-bit (11 Dec 2023)           www.cog-genomics.org/plink/1.9/\n",
      "(C) 2005-2023 Shaun Purcell, Christopher Chang   GNU General Public License v3\n",
      "Logging to /Users/msoliai/Documents/git/gwas_workflow/data/gwas_example_final_indep.log.\n",
      "Options in effect:\n",
      "  --bfile /Users/msoliai/Documents/git/gwas_workflow/data/gwas_example_final\n",
      "  --extract /Users/msoliai/Documents/git/gwas_workflow/data/gwas_example_final.prune.in\n",
      "  --make-bed\n",
      "  --out /Users/msoliai/Documents/git/gwas_workflow/data/gwas_example_final_indep\n",
      "\n",
      "16384 MB RAM detected; reserving 8192 MB for main workspace.\n",
      "99712 variants loaded from .bim file.\n",
      "192 people (95 males, 97 females) loaded from .fam.\n",
      "192 phenotype values loaded from .fam.\n",
      "--extract: 72583 variants remaining.\n",
      "Using 1 thread (no multithreaded calculations invoked).\n",
      "Before main variant filters, 192 founders and 0 nonfounders present.\n",
      "Calculating allele frequencies... 10111213141516171819202122232425262728293031323334353637383940414243444546474849505152535455565758596061626364656667686970717273747576777879808182838485868788899091929394959697989 done.\n",
      "Total genotyping rate is 0.996809.\n",
      "72583 variants and 192 people pass filters and QC.\n",
      "Among remaining phenotypes, 39 are cases and 153 are controls.\n",
      "--make-bed to\n",
      "/Users/msoliai/Documents/git/gwas_workflow/data/gwas_example_final_indep.bed +\n",
      "/Users/msoliai/Documents/git/gwas_workflow/data/gwas_example_final_indep.bim +\n",
      "/Users/msoliai/Documents/git/gwas_workflow/data/gwas_example_final_indep.fam\n",
      "... 101112131415161718192021222324252627282930313233343536373839404142434445464748495051525354555657585960616263646566676869707172737475767778798081828384858687888990919293949596979899done.\n",
      "New binary files created successfully: \n",
      "BED file:  /Users/msoliai/Documents/git/gwas_workflow/data/gwas_example_final_indep.bed \n",
      "BIM file:  /Users/msoliai/Documents/git/gwas_workflow/data/gwas_example_final_indep.bim \n",
      "FAM file:  /Users/msoliai/Documents/git/gwas_workflow/data/gwas_example_final_indep.fam \n",
      "PLINK v1.90b7.2 64-bit (11 Dec 2023)           www.cog-genomics.org/plink/1.9/\n",
      "(C) 2005-2023 Shaun Purcell, Christopher Chang   GNU General Public License v3\n",
      "Logging to /Users/msoliai/Documents/git/gwas_workflow/data/gwas_example_final_pca.log.\n",
      "Options in effect:\n",
      "  --bfile /Users/msoliai/Documents/git/gwas_workflow/data/gwas_example_final_indep\n",
      "  --out /Users/msoliai/Documents/git/gwas_workflow/data/gwas_example_final_pca\n",
      "  --pca\n",
      "\n",
      "16384 MB RAM detected; reserving 8192 MB for main workspace.\n",
      "72583 variants loaded from .bim file.\n",
      "192 people (95 males, 97 females) loaded from .fam.\n",
      "192 phenotype values loaded from .fam.\n",
      "Using up to 9 threads (change this with --threads).\n",
      "Before main variant filters, 192 founders and 0 nonfounders present.\n",
      "Calculating allele frequencies... 10111213141516171819202122232425262728293031323334353637383940414243444546474849505152535455565758596061626364656667686970717273747576777879808182838485868788899091929394959697989 done.\n",
      "Total genotyping rate is 0.996809.\n",
      "72583 variants and 192 people pass filters and QC.\n",
      "Among remaining phenotypes, 39 are cases and 153 are controls.\n",
      "Relationship matrix calculation complete.\n",
      "--pca: Results saved to and eigenvectors]\n",
      "/Users/msoliai/Documents/git/gwas_workflow/data/gwas_example_final_pca.eigenval\n",
      "and\n",
      "/Users/msoliai/Documents/git/gwas_workflow/data/gwas_example_final_pca.eigenvec\n",
      ".\n",
      "PCA output file exists:  /Users/msoliai/Documents/git/gwas_workflow/data/gwas_example_final_pca.eigenvec \n"
     ]
    },
    {
     "data": {
      "text/html": [
       "<table class=\"dataframe\">\n",
       "<caption>A data.frame: 6 × 22</caption>\n",
       "<thead>\n",
       "\t<tr><th></th><th scope=col>V1</th><th scope=col>V2</th><th scope=col>V3</th><th scope=col>V4</th><th scope=col>V5</th><th scope=col>V6</th><th scope=col>V7</th><th scope=col>V8</th><th scope=col>V9</th><th scope=col>V10</th><th scope=col>⋯</th><th scope=col>V13</th><th scope=col>V14</th><th scope=col>V15</th><th scope=col>V16</th><th scope=col>V17</th><th scope=col>V18</th><th scope=col>V19</th><th scope=col>V20</th><th scope=col>V21</th><th scope=col>V22</th></tr>\n",
       "\t<tr><th></th><th scope=col>&lt;chr&gt;</th><th scope=col>&lt;chr&gt;</th><th scope=col>&lt;dbl&gt;</th><th scope=col>&lt;dbl&gt;</th><th scope=col>&lt;dbl&gt;</th><th scope=col>&lt;dbl&gt;</th><th scope=col>&lt;dbl&gt;</th><th scope=col>&lt;dbl&gt;</th><th scope=col>&lt;dbl&gt;</th><th scope=col>&lt;dbl&gt;</th><th scope=col>⋯</th><th scope=col>&lt;dbl&gt;</th><th scope=col>&lt;dbl&gt;</th><th scope=col>&lt;dbl&gt;</th><th scope=col>&lt;dbl&gt;</th><th scope=col>&lt;dbl&gt;</th><th scope=col>&lt;dbl&gt;</th><th scope=col>&lt;dbl&gt;</th><th scope=col>&lt;dbl&gt;</th><th scope=col>&lt;dbl&gt;</th><th scope=col>&lt;dbl&gt;</th></tr>\n",
       "</thead>\n",
       "<tbody>\n",
       "\t<tr><th scope=row>1</th><td>NA20505</td><td>NA20505</td><td>0.0757339</td><td>-0.0264009</td><td> 0.0148166</td><td>-0.02375640</td><td> 0.00887168</td><td> 0.0032160</td><td> 0.06784090</td><td>-0.0420065</td><td>⋯</td><td>-0.03899580</td><td> 0.0670889</td><td>-0.01503630</td><td> 0.0538179</td><td> 0.04592370</td><td>-0.0145336</td><td> 0.0825434</td><td>-0.0578123</td><td> 0.01642010</td><td>-0.02207890</td></tr>\n",
       "\t<tr><th scope=row>2</th><td>NA20504</td><td>NA20504</td><td>0.0688010</td><td> 0.1941840</td><td>-0.0141943</td><td>-0.49767200</td><td> 0.22632700</td><td>-0.0110324</td><td>-0.28426300</td><td>-0.0332691</td><td>⋯</td><td>-0.15103200</td><td> 0.0929649</td><td>-0.00410145</td><td>-0.0557924</td><td> 0.13054000</td><td>-0.0672311</td><td>-0.1084380</td><td> 0.1498650</td><td>-0.00874232</td><td> 0.03266830</td></tr>\n",
       "\t<tr><th scope=row>3</th><td>NA20506</td><td>NA20506</td><td>0.0723643</td><td>-0.0178616</td><td>-0.0306206</td><td> 0.01264690</td><td>-0.01306890</td><td> 0.0553185</td><td>-0.03472080</td><td> 0.0465207</td><td>⋯</td><td>-0.04249800</td><td> 0.0662390</td><td> 0.07750230</td><td> 0.0505171</td><td> 0.04081820</td><td>-0.0710421</td><td>-0.0148121</td><td>-0.0191663</td><td>-0.00394107</td><td>-0.00506505</td></tr>\n",
       "\t<tr><th scope=row>4</th><td>NA20502</td><td>NA20502</td><td>0.0853343</td><td> 0.1416060</td><td> 0.0104528</td><td>-0.27112800</td><td> 0.13741100</td><td>-0.0589519</td><td> 0.03880530</td><td>-0.0619875</td><td>⋯</td><td>-0.03345590</td><td> 0.0684865</td><td> 0.12861600</td><td> 0.0827991</td><td>-0.00887483</td><td>-0.0545222</td><td> 0.4241820</td><td> 0.0410108</td><td>-0.00196164</td><td>-0.01203590</td></tr>\n",
       "\t<tr><th scope=row>5</th><td>NA20528</td><td>NA20528</td><td>0.0747823</td><td>-0.0190528</td><td> 0.0129491</td><td>-0.01590730</td><td> 0.04986240</td><td>-0.0344815</td><td> 0.00888534</td><td> 0.0657312</td><td>⋯</td><td> 0.00186658</td><td>-0.0446660</td><td> 0.01189170</td><td> 0.0719046</td><td> 0.05691540</td><td>-0.0721721</td><td> 0.0315918</td><td> 0.0778861</td><td>-0.08498170</td><td>-0.01238120</td></tr>\n",
       "\t<tr><th scope=row>6</th><td>NA20531</td><td>NA20531</td><td>0.0813945</td><td>-0.0308249</td><td> 0.0235611</td><td> 0.00837153</td><td> 0.01222940</td><td> 0.0121661</td><td> 0.06699310</td><td>-0.0780612</td><td>⋯</td><td>-0.13054000</td><td>-0.1030210</td><td>-0.03825250</td><td> 0.1558770</td><td> 0.03347760</td><td>-0.0280715</td><td> 0.0160752</td><td> 0.1545330</td><td>-0.08337830</td><td>-0.03708300</td></tr>\n",
       "</tbody>\n",
       "</table>\n"
      ],
      "text/latex": [
       "A data.frame: 6 × 22\n",
       "\\begin{tabular}{r|lllllllllllllllllllll}\n",
       "  & V1 & V2 & V3 & V4 & V5 & V6 & V7 & V8 & V9 & V10 & ⋯ & V13 & V14 & V15 & V16 & V17 & V18 & V19 & V20 & V21 & V22\\\\\n",
       "  & <chr> & <chr> & <dbl> & <dbl> & <dbl> & <dbl> & <dbl> & <dbl> & <dbl> & <dbl> & ⋯ & <dbl> & <dbl> & <dbl> & <dbl> & <dbl> & <dbl> & <dbl> & <dbl> & <dbl> & <dbl>\\\\\n",
       "\\hline\n",
       "\t1 & NA20505 & NA20505 & 0.0757339 & -0.0264009 &  0.0148166 & -0.02375640 &  0.00887168 &  0.0032160 &  0.06784090 & -0.0420065 & ⋯ & -0.03899580 &  0.0670889 & -0.01503630 &  0.0538179 &  0.04592370 & -0.0145336 &  0.0825434 & -0.0578123 &  0.01642010 & -0.02207890\\\\\n",
       "\t2 & NA20504 & NA20504 & 0.0688010 &  0.1941840 & -0.0141943 & -0.49767200 &  0.22632700 & -0.0110324 & -0.28426300 & -0.0332691 & ⋯ & -0.15103200 &  0.0929649 & -0.00410145 & -0.0557924 &  0.13054000 & -0.0672311 & -0.1084380 &  0.1498650 & -0.00874232 &  0.03266830\\\\\n",
       "\t3 & NA20506 & NA20506 & 0.0723643 & -0.0178616 & -0.0306206 &  0.01264690 & -0.01306890 &  0.0553185 & -0.03472080 &  0.0465207 & ⋯ & -0.04249800 &  0.0662390 &  0.07750230 &  0.0505171 &  0.04081820 & -0.0710421 & -0.0148121 & -0.0191663 & -0.00394107 & -0.00506505\\\\\n",
       "\t4 & NA20502 & NA20502 & 0.0853343 &  0.1416060 &  0.0104528 & -0.27112800 &  0.13741100 & -0.0589519 &  0.03880530 & -0.0619875 & ⋯ & -0.03345590 &  0.0684865 &  0.12861600 &  0.0827991 & -0.00887483 & -0.0545222 &  0.4241820 &  0.0410108 & -0.00196164 & -0.01203590\\\\\n",
       "\t5 & NA20528 & NA20528 & 0.0747823 & -0.0190528 &  0.0129491 & -0.01590730 &  0.04986240 & -0.0344815 &  0.00888534 &  0.0657312 & ⋯ &  0.00186658 & -0.0446660 &  0.01189170 &  0.0719046 &  0.05691540 & -0.0721721 &  0.0315918 &  0.0778861 & -0.08498170 & -0.01238120\\\\\n",
       "\t6 & NA20531 & NA20531 & 0.0813945 & -0.0308249 &  0.0235611 &  0.00837153 &  0.01222940 &  0.0121661 &  0.06699310 & -0.0780612 & ⋯ & -0.13054000 & -0.1030210 & -0.03825250 &  0.1558770 &  0.03347760 & -0.0280715 &  0.0160752 &  0.1545330 & -0.08337830 & -0.03708300\\\\\n",
       "\\end{tabular}\n"
      ],
      "text/markdown": [
       "\n",
       "A data.frame: 6 × 22\n",
       "\n",
       "| <!--/--> | V1 &lt;chr&gt; | V2 &lt;chr&gt; | V3 &lt;dbl&gt; | V4 &lt;dbl&gt; | V5 &lt;dbl&gt; | V6 &lt;dbl&gt; | V7 &lt;dbl&gt; | V8 &lt;dbl&gt; | V9 &lt;dbl&gt; | V10 &lt;dbl&gt; | ⋯ ⋯ | V13 &lt;dbl&gt; | V14 &lt;dbl&gt; | V15 &lt;dbl&gt; | V16 &lt;dbl&gt; | V17 &lt;dbl&gt; | V18 &lt;dbl&gt; | V19 &lt;dbl&gt; | V20 &lt;dbl&gt; | V21 &lt;dbl&gt; | V22 &lt;dbl&gt; |\n",
       "|---|---|---|---|---|---|---|---|---|---|---|---|---|---|---|---|---|---|---|---|---|---|\n",
       "| 1 | NA20505 | NA20505 | 0.0757339 | -0.0264009 |  0.0148166 | -0.02375640 |  0.00887168 |  0.0032160 |  0.06784090 | -0.0420065 | ⋯ | -0.03899580 |  0.0670889 | -0.01503630 |  0.0538179 |  0.04592370 | -0.0145336 |  0.0825434 | -0.0578123 |  0.01642010 | -0.02207890 |\n",
       "| 2 | NA20504 | NA20504 | 0.0688010 |  0.1941840 | -0.0141943 | -0.49767200 |  0.22632700 | -0.0110324 | -0.28426300 | -0.0332691 | ⋯ | -0.15103200 |  0.0929649 | -0.00410145 | -0.0557924 |  0.13054000 | -0.0672311 | -0.1084380 |  0.1498650 | -0.00874232 |  0.03266830 |\n",
       "| 3 | NA20506 | NA20506 | 0.0723643 | -0.0178616 | -0.0306206 |  0.01264690 | -0.01306890 |  0.0553185 | -0.03472080 |  0.0465207 | ⋯ | -0.04249800 |  0.0662390 |  0.07750230 |  0.0505171 |  0.04081820 | -0.0710421 | -0.0148121 | -0.0191663 | -0.00394107 | -0.00506505 |\n",
       "| 4 | NA20502 | NA20502 | 0.0853343 |  0.1416060 |  0.0104528 | -0.27112800 |  0.13741100 | -0.0589519 |  0.03880530 | -0.0619875 | ⋯ | -0.03345590 |  0.0684865 |  0.12861600 |  0.0827991 | -0.00887483 | -0.0545222 |  0.4241820 |  0.0410108 | -0.00196164 | -0.01203590 |\n",
       "| 5 | NA20528 | NA20528 | 0.0747823 | -0.0190528 |  0.0129491 | -0.01590730 |  0.04986240 | -0.0344815 |  0.00888534 |  0.0657312 | ⋯ |  0.00186658 | -0.0446660 |  0.01189170 |  0.0719046 |  0.05691540 | -0.0721721 |  0.0315918 |  0.0778861 | -0.08498170 | -0.01238120 |\n",
       "| 6 | NA20531 | NA20531 | 0.0813945 | -0.0308249 |  0.0235611 |  0.00837153 |  0.01222940 |  0.0121661 |  0.06699310 | -0.0780612 | ⋯ | -0.13054000 | -0.1030210 | -0.03825250 |  0.1558770 |  0.03347760 | -0.0280715 |  0.0160752 |  0.1545330 | -0.08337830 | -0.03708300 |\n",
       "\n"
      ],
      "text/plain": [
       "  V1      V2      V3        V4         V5         V6          V7         \n",
       "1 NA20505 NA20505 0.0757339 -0.0264009  0.0148166 -0.02375640  0.00887168\n",
       "2 NA20504 NA20504 0.0688010  0.1941840 -0.0141943 -0.49767200  0.22632700\n",
       "3 NA20506 NA20506 0.0723643 -0.0178616 -0.0306206  0.01264690 -0.01306890\n",
       "4 NA20502 NA20502 0.0853343  0.1416060  0.0104528 -0.27112800  0.13741100\n",
       "5 NA20528 NA20528 0.0747823 -0.0190528  0.0129491 -0.01590730  0.04986240\n",
       "6 NA20531 NA20531 0.0813945 -0.0308249  0.0235611  0.00837153  0.01222940\n",
       "  V8         V9          V10        ⋯ V13         V14        V15        \n",
       "1  0.0032160  0.06784090 -0.0420065 ⋯ -0.03899580  0.0670889 -0.01503630\n",
       "2 -0.0110324 -0.28426300 -0.0332691 ⋯ -0.15103200  0.0929649 -0.00410145\n",
       "3  0.0553185 -0.03472080  0.0465207 ⋯ -0.04249800  0.0662390  0.07750230\n",
       "4 -0.0589519  0.03880530 -0.0619875 ⋯ -0.03345590  0.0684865  0.12861600\n",
       "5 -0.0344815  0.00888534  0.0657312 ⋯  0.00186658 -0.0446660  0.01189170\n",
       "6  0.0121661  0.06699310 -0.0780612 ⋯ -0.13054000 -0.1030210 -0.03825250\n",
       "  V16        V17         V18        V19        V20        V21        \n",
       "1  0.0538179  0.04592370 -0.0145336  0.0825434 -0.0578123  0.01642010\n",
       "2 -0.0557924  0.13054000 -0.0672311 -0.1084380  0.1498650 -0.00874232\n",
       "3  0.0505171  0.04081820 -0.0710421 -0.0148121 -0.0191663 -0.00394107\n",
       "4  0.0827991 -0.00887483 -0.0545222  0.4241820  0.0410108 -0.00196164\n",
       "5  0.0719046  0.05691540 -0.0721721  0.0315918  0.0778861 -0.08498170\n",
       "6  0.1558770  0.03347760 -0.0280715  0.0160752  0.1545330 -0.08337830\n",
       "  V22        \n",
       "1 -0.02207890\n",
       "2  0.03266830\n",
       "3 -0.00506505\n",
       "4 -0.01203590\n",
       "5 -0.01238120\n",
       "6 -0.03708300"
      ]
     },
     "metadata": {},
     "output_type": "display_data"
    }
   ],
   "source": [
    "# Perform linkage disequilibrium (LD) pruning on the final dataset\n",
    "ld_pruning_command <- paste(\"plink --bfile\", file.path(data_dir, \"gwas_example_final\"), \"--indep-pairwise 200 5 0.2 --out\", file.path(data_dir, \"gwas_example_final\"))\n",
    "ld_pruning_output <- system(ld_pruning_command, intern = TRUE, ignore.stderr = FALSE)\n",
    "cat(ld_pruning_output, sep = \"\\n\")\n",
    "\n",
    "# Verify the existence of the pruning output file\n",
    "prune_in_file <- file.path(data_dir, \"gwas_example_final.prune.in\")\n",
    "if (file.exists(prune_in_file)) {\n",
    "    cat(\"Pruning output file exists: \", prune_in_file, \"\\n\")\n",
    "} else {\n",
    "    stop(\"Pruning output file does not exist: \", prune_in_file)\n",
    "}\n",
    "\n",
    "# Extract the pruned SNPs and create a new binary file\n",
    "extract_command <- paste(\"plink --bfile\", file.path(data_dir, \"gwas_example_final\"), \"--extract\", prune_in_file, \"--make-bed --out\", file.path(data_dir, \"gwas_example_final_indep\"))\n",
    "extract_output <- system(extract_command, intern = TRUE, ignore.stderr = FALSE)\n",
    "cat(extract_output, sep = \"\\n\")\n",
    "\n",
    "# Verify the existence of the new binary files\n",
    "bed_file <- file.path(data_dir, \"gwas_example_final_indep.bed\")\n",
    "bim_file <- file.path(data_dir, \"gwas_example_final_indep.bim\")\n",
    "fam_file <- file.path(data_dir, \"gwas_example_final_indep.fam\")\n",
    "if (file.exists(bed_file) && file.exists(bim_file) && file.exists(fam_file)) {\n",
    "    cat(\"New binary files created successfully: \\n\")\n",
    "    cat(\"BED file: \", bed_file, \"\\n\")\n",
    "    cat(\"BIM file: \", bim_file, \"\\n\")\n",
    "    cat(\"FAM file: \", fam_file, \"\\n\")\n",
    "} else {\n",
    "    stop(\"One or more new binary files do not exist: \", bed_file, \", \", bim_file, \", \", fam_file)\n",
    "}\n",
    "\n",
    "# Perform PCA on the pruned dataset\n",
    "pca_command <- paste(\"plink --bfile\", file.path(data_dir, \"gwas_example_final_indep\"), \"--pca --out\", file.path(data_dir, \"gwas_example_final_pca\"))\n",
    "pca_output <- system(pca_command, intern = TRUE, ignore.stderr = FALSE)\n",
    "cat(pca_output, sep = \"\\n\")\n",
    "\n",
    "# Verify the existence of the PCA output file\n",
    "pca_file <- file.path(data_dir, \"gwas_example_final_pca.eigenvec\")\n",
    "if (file.exists(pca_file)) {\n",
    "    cat(\"PCA output file exists: \", pca_file, \"\\n\")\n",
    "} else {\n",
    "    stop(\"PCA output file does not exist: \", pca_file)\n",
    "}\n",
    "\n",
    "# Print the first few lines of the PCA results\n",
    "pca_results <- read.table(pca_file, header = FALSE)\n",
    "head(pca_results)"
   ]
  },
  {
   "cell_type": "markdown",
   "id": "e15ea1f5-aae9-4d69-8b22-5372d59606ca",
   "metadata": {},
   "source": [
    "<a id=\"gwas\"></a>\n",
    "## 3. GWAS"
   ]
  },
  {
   "cell_type": "markdown",
   "id": "8ffd408d-37c9-4a3f-ae5a-70823c13f8bc",
   "metadata": {},
   "source": [
    "### Perform the GWAS"
   ]
  },
  {
   "cell_type": "code",
   "execution_count": 20,
   "id": "96c50320-3350-4131-9c2e-eec26e9ad1ce",
   "metadata": {},
   "outputs": [],
   "source": [
    "# Perform GWAS with logistic regression, including the first 10 principal components as covariates\n",
    "system(paste(\"plink --bfile\", file.path(data_dir, \"gwas_example_final\"), \n",
    "             \"--logistic hide-covar --covar\", file.path(data_dir, \"gwas_example_final_pca.eigenvec\"), \n",
    "             \"--covar-number 1-10 --out\", file.path(data_dir, \"gwas_example_final\"), \"--ci 0.95\"))"
   ]
  },
  {
   "cell_type": "markdown",
   "id": "47e0fe18-ca76-45ae-9921-f1eb204ce176",
   "metadata": {},
   "source": [
    "#### Verify GWAS output"
   ]
  },
  {
   "cell_type": "code",
   "execution_count": 21,
   "id": "bf349b1a-396b-4131-a0d5-996d079b1471",
   "metadata": {},
   "outputs": [
    {
     "name": "stdout",
     "output_type": "stream",
     "text": [
      " CHR                            SNP         BP   A1       TEST    NMISS         OR       SE      L95      U95         STAT            P \n",
      "   1                     rs12565286     711153    C        ADD      186     0.9459   0.6689   0.2549    3.509     -0.08317       0.9337\n",
      "   1                      rs4970383     828418    A        ADD      192     0.7218   0.3336   0.3754    1.388      -0.9772       0.3285\n",
      "   1                     rs13303118     908247    G        ADD      192     0.7256   0.2884   0.4123    1.277       -1.112       0.2661\n",
      "   1                     rs35940137     930066    A        ADD      192      1.015   0.8313    0.199    5.179      0.01824       0.9855\n",
      "   1                      rs2465136     980280    C        ADD      191     0.8569   0.3114   0.4655    1.577      -0.4961       0.6198\n",
      "   1                      rs2488991     984254    G        ADD      192      0.934   0.3955   0.4302    2.028      -0.1727       0.8629\n",
      "   1                      rs3766192    1007060    C        ADD      192     0.9196   0.2846   0.5264    1.606      -0.2946       0.7683\n",
      "   1                     rs10907177    1011209    G        ADD      192     0.6632   0.4045   0.3001    1.465       -1.015       0.3099\n",
      "   1                      rs9442398    1011558    A        ADD      192      1.119   0.3242   0.5929    2.113       0.3479       0.7279\n"
     ]
    }
   ],
   "source": [
    "# Inspect the first few lines of the logistic regression association results\n",
    "output_assoc <- system(paste(\"head\", file.path(data_dir, \"gwas_example_final.assoc.logistic\")), intern = TRUE)\n",
    "cat(output_assoc, sep = \"\\n\")"
   ]
  },
  {
   "cell_type": "markdown",
   "id": "756f0823-b946-4f14-a839-2860c4a34732",
   "metadata": {},
   "source": [
    "<a id=\"results\"></a>\n",
    "## 4. GWAS Results Output"
   ]
  },
  {
   "cell_type": "markdown",
   "id": "5bb05d0b-c62e-4f11-9b8c-d0fd182ffc4d",
   "metadata": {},
   "source": [
    "### Create a Manhattan plot"
   ]
  },
  {
   "cell_type": "code",
   "execution_count": 22,
   "id": "f87a6058-349f-4231-ae6c-f12487e5f833",
   "metadata": {},
   "outputs": [
    {
     "name": "stdout",
     "output_type": "stream",
     "text": [
      " [1] CHR   SNP   BP    A1    TEST  NMISS OR    SE    L95   U95   STAT  P    \n",
      "<0 rows> (or 0-length row.names)\n"
     ]
    },
    {
     "data": {
      "text/html": [
       "<strong>pdf:</strong> 2"
      ],
      "text/latex": [
       "\\textbf{pdf:} 2"
      ],
      "text/markdown": [
       "**pdf:** 2"
      ],
      "text/plain": [
       "pdf \n",
       "  2 "
      ]
     },
     "metadata": {},
     "output_type": "display_data"
    },
    {
     "data": {
      "text/html": [
       "<strong>pdf:</strong> 2"
      ],
      "text/latex": [
       "\\textbf{pdf:} 2"
      ],
      "text/markdown": [
       "**pdf:** 2"
      ],
      "text/plain": [
       "pdf \n",
       "  2 "
      ]
     },
     "metadata": {},
     "output_type": "display_data"
    },
    {
     "name": "stdout",
     "output_type": "stream",
     "text": [
      "[1] \"lambda GC: 1.06051996604631\"\n"
     ]
    }
   ],
   "source": [
    "# Set the output directory\n",
    "output_dir <- file.path(project_root, \"output/figures\")\n",
    "\n",
    "# Read the logistic regression association results\n",
    "assoc_adj <- read.table(file.path(project_root, \"data/gwas_example_final.assoc.logistic\"), header = TRUE)\n",
    "\n",
    "# Filter out rows with missing P, OR, or STAT values\n",
    "assoc_adj_final <- assoc_adj[which(!is.na(assoc_adj$P) & !is.na(assoc_adj$OR) & !is.na(assoc_adj$STAT)),]\n",
    "\n",
    "# Identify significant results\n",
    "assoc_adj_final_sig <- assoc_adj_final[assoc_adj_final[,12] < 0.00000005,]\n",
    "print(assoc_adj_final_sig)\n",
    "\n",
    "# Identify suggestive results\n",
    "assoc_adj_final_sug <- assoc_adj_final[assoc_adj_final[,12] < 0.00001,]\n",
    "\n",
    "# Load the qqman library\n",
    "library(qqman)\n",
    "\n",
    "# Generate Manhattan plot\n",
    "pdf(file.path(output_dir, \"assoc_adj_final.manhattan.pdf\"))\n",
    "manhattan(assoc_adj_final, main = \"Manhattan Plot\", ylim = c(0, 10))\n",
    "dev.off()\n",
    "\n",
    "# Generate Q-Q plot\n",
    "pdf(file.path(output_dir, \"assoc_adj_final.qq.pdf\"))\n",
    "qq(assoc_adj_final$P, main = \"Q-Q Plot\", ylim = c(0, 10))\n",
    "dev.off()\n",
    "\n",
    "# Calculate and print lambda GC\n",
    "lambda_gc <- median((assoc_adj_final$STAT)^2) / qchisq(0.5, 1, lower.tail = FALSE)\n",
    "print(paste(\"lambda GC:\", lambda_gc))"
   ]
  },
  {
   "cell_type": "code",
   "execution_count": 23,
   "id": "45236c17-453f-4f4b-b5c6-0c8adb90677b",
   "metadata": {},
   "outputs": [
    {
     "data": {
      "text/plain": [
       "R version 4.3.1 (2023-06-16)\n",
       "Platform: aarch64-apple-darwin20 (64-bit)\n",
       "Running under: macOS Sonoma 14.5\n",
       "\n",
       "Matrix products: default\n",
       "BLAS:   /Library/Frameworks/R.framework/Versions/4.3-arm64/Resources/lib/libRblas.0.dylib \n",
       "LAPACK: /Library/Frameworks/R.framework/Versions/4.3-arm64/Resources/lib/libRlapack.dylib;  LAPACK version 3.11.0\n",
       "\n",
       "locale:\n",
       "[1] en_US.UTF-8/en_US.UTF-8/en_US.UTF-8/C/en_US.UTF-8/en_US.UTF-8\n",
       "\n",
       "time zone: America/Chicago\n",
       "tzcode source: internal\n",
       "\n",
       "attached base packages:\n",
       "[1] stats     graphics  grDevices utils     datasets  methods   base     \n",
       "\n",
       "other attached packages:\n",
       "[1] here_1.0.1  qqman_0.1.9\n",
       "\n",
       "loaded via a namespace (and not attached):\n",
       " [1] digest_0.6.35     IRdisplay_1.1     utf8_1.2.4        base64enc_0.1-3  \n",
       " [5] fastmap_1.1.1     glue_1.7.0        htmltools_0.5.8.1 repr_1.1.7       \n",
       " [9] lifecycle_1.0.4   cli_3.6.2         fansi_1.0.6       vctrs_0.6.5      \n",
       "[13] calibrate_1.7.7   renv_1.0.7        pbdZMQ_0.3-11     compiler_4.3.1   \n",
       "[17] rprojroot_2.0.4   tools_4.3.1       evaluate_0.23     pillar_1.9.0     \n",
       "[21] crayon_1.5.2      rlang_1.1.3       jsonlite_1.8.8    MASS_7.3-60.0.1  \n",
       "[25] IRkernel_1.3.2    uuid_1.2-0       "
      ]
     },
     "metadata": {},
     "output_type": "display_data"
    }
   ],
   "source": [
    "sessionInfo()"
   ]
  }
 ],
 "metadata": {
  "kernelspec": {
   "display_name": "R",
   "language": "R",
   "name": "ir"
  },
  "language_info": {
   "codemirror_mode": "r",
   "file_extension": ".r",
   "mimetype": "text/x-r-source",
   "name": "R",
   "pygments_lexer": "r",
   "version": "4.3.1"
  }
 },
 "nbformat": 4,
 "nbformat_minor": 5
}
